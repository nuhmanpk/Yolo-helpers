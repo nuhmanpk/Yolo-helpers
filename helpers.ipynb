{
 "cells": [
  {
   "attachments": {},
   "cell_type": "markdown",
   "metadata": {},
   "source": [
    "# Splitting Data into Train and Validation Sets\n",
    "* This code defines a Python function called split_data that takes in a folder_path parameter, which represents the path to the folder containing the image files that need to be split into train and validation sets.\n",
    "\n",
    "* Within the function, the os and random modules are imported to allow for directory and file handling, as well as randomizing the order of the image files.\n",
    "\n",
    "* The os.listdir method is used to retrieve a list of all the files in the folder_path directory that end with the .jpg file extension. These file names are then concatenated with the folder_path to form absolute file paths.\n",
    "\n",
    "* The random.shuffle method is called on the list of image file paths to randomly shuffle the order of the files.\n",
    "\n",
    "* The split_index variable is set to 80% of the total number of image files using int(0.8 * len(image_files)).\n",
    "\n",
    "* The train_files variable is assigned to a slice of the shuffled image file list from the beginning to the index of split_index, representing the 80% of files used for training.\n",
    "\n",
    "* The valid_files variable is assigned to a slice of the shuffled image file list from the index of split_index to the end, representing the 20% of files used for validation.\n",
    "\n",
    "* Two text files are then created and written to, using the open method in write mode and the with statement to ensure the files are properly closed after writing. The train.txt file contains the file paths for the training images, while the val.txt file contains the file paths for the validation images.\n",
    "\n",
    "* Finally, the function prints a message that indicates the total number of images in the directory, as well as the number of images allocated for training and validation.\n",
    "\n",
    "*To use this function, simply call it and pass in the path to your image files directory, for example: `split_data('path/to/your/folder')`."
   ]
  },
  {
   "cell_type": "code",
   "execution_count": null,
   "metadata": {},
   "outputs": [],
   "source": [
    "import os \n",
    "import random\n",
    "\n",
    "def split_data(folder_path):\n",
    "  image_files=[os.path.join(folder_path,f) for f in os.listdir(folder_path) if f.endswith('.jpg')]\n",
    "  random.shuffle(image_files)\n",
    "  split_index=int(0.8 *len(image_files))\n",
    "  train_files=image_files[:split_index]\n",
    "  valid_files=image_files[split_index:]\n",
    "  with open('train.txt','w') as train_f:\n",
    "    train_f.write('\\n'.join(train_files))\n",
    "  with open('val.txt','w') as val:\n",
    "    val.write('\\n'.join(valid_files))\n",
    "  print(f'Split {len(image_files)} images into {len(train_files)} train and {len(valid_files)} validation images.')\n",
    "  return\n",
    "split_data('Your folder path')"
   ]
  },
  {
   "attachments": {},
   "cell_type": "markdown",
   "metadata": {},
   "source": [
    "# Create a YAML file for a YOLO model.\n",
    "\n",
    "    Args:\n",
    "        classes (list): A list of class names.\n",
    "        anchors (list): A list of anchor boxes in the format (width, height).\n",
    "        input_shape (tuple): The input shape of the model in the format (height, width).\n",
    "        yaml_path (str, optional): The path to save the YAML file. Defaults to 'yolo.yaml'."
   ]
  },
  {
   "cell_type": "code",
   "execution_count": null,
   "metadata": {},
   "outputs": [],
   "source": [
    "import os\n",
    "import yaml\n",
    "\n",
    "def create_yaml_file(classes, anchors, input_shape, yaml_path='yolo.yaml'):\n",
    "    data = {\n",
    "        'train': 'train.txt',\n",
    "        'val': 'val.txt',\n",
    "        'nc': len(classes),\n",
    "        'names': classes,\n",
    "        'anchors': anchors,\n",
    "        'img_size': input_shape,\n",
    "    }\n",
    "    with open(yaml_path, 'w') as file:\n",
    "        yaml.dump(data, file)\n",
    "\n"
   ]
  },
  {
   "attachments": {},
   "cell_type": "markdown",
   "metadata": {},
   "source": [
    "# Reads class names from a file.\n",
    "\n",
    "    Args:\n",
    "        file_path (str): The path to the class names file.\n",
    "\n",
    "    Returns:\n",
    "        list: A list of class names."
   ]
  },
  {
   "cell_type": "code",
   "execution_count": null,
   "metadata": {},
   "outputs": [],
   "source": [
    "def read_class_names(file_path):\n",
    "    with open(file_path, 'r') as file:\n",
    "        classes = file.read().split('\\n')\n",
    "    return classes"
   ]
  },
  {
   "attachments": {},
   "cell_type": "markdown",
   "metadata": {},
   "source": [
    "# Generate anchor boxes for a YOLO model.\n",
    "\n",
    "    Args:\n",
    "        num_anchors (int): The number of anchor boxes to generate.\n",
    "        image_shape (tuple): The shape of the input images in the format (height, width).\n",
    "        grid_shape (tuple): The shape of the grid cells in the format (height, width).\n",
    "\n",
    "    Returns:\n",
    "        list: A list of anchor boxes in the format (width, height)."
   ]
  },
  {
   "cell_type": "code",
   "execution_count": null,
   "metadata": {},
   "outputs": [],
   "source": [
    "def generate_anchors(num_anchors, image_shape, grid_shape):\n",
    "    anchor_boxes = []\n",
    "    for i in range(num_anchors):\n",
    "        anchor_width = image_shape[1] / grid_shape[1]\n",
    "        anchor_height = image_shape[0] / grid_shape[0]\n",
    "        anchor_boxes.append((anchor_width, anchor_height))\n",
    "    return anchor_boxes"
   ]
  },
  {
   "attachments": {},
   "cell_type": "markdown",
   "metadata": {},
   "source": [
    "# Create a file with class names.\n",
    "\n",
    "    Args:\n",
    "        classes (list): A list of class names.\n",
    "        file_path (str, optional): The path to save the class names file. Defaults to 'classes.txt'.\n",
    "  "
   ]
  },
  {
   "cell_type": "code",
   "execution_count": null,
   "metadata": {},
   "outputs": [],
   "source": [
    "def create_class_names_file(classes, file_path='classes.txt'):\n",
    "    with open(file_path, 'w') as file:\n",
    "        file.write('\\n'.join(classes))"
   ]
  },
  {
   "attachments": {},
   "cell_type": "markdown",
   "metadata": {},
   "source": [
    "# Draws a bounding box on an image.\n",
    "\n",
    "    Args:\n",
    "        image (numpy.ndarray): The image to draw the bounding box on.\n",
    "        box (list): A list of bounding box coordinates in the format [x, y, width, height].\n",
    "        color (tuple, optional): The color of the bounding box. Defaults to (0, 255, 0).\n",
    "        thickness (int, optional): The thickness of the bounding box. Defaults to 2.\n",
    "\n",
    "    Returns:\n",
    "        numpy.ndarray: The image with the bounding box drawn on it."
   ]
  },
  {
   "cell_type": "code",
   "execution_count": null,
   "metadata": {},
   "outputs": [],
   "source": [
    "import cv2\n",
    "import numpy as np\n",
    "\n",
    "def draw_bounding_box(image, box, color=(0, 255, 0), thickness=2):\n",
    "    x, y, w, h = box\n",
    "    cv2.rectangle(image, (x, y), (x + w, y + h), color, thickness)\n",
    "    return image"
   ]
  },
  {
   "attachments": {},
   "cell_type": "markdown",
   "metadata": {},
   "source": [
    "# Preprocesses an image for input into a YOLO model.\n",
    "\n",
    "    Args:\n",
    "        image (numpy.ndarray): The image to preprocess.\n",
    "        input_shape (tuple): The input shape of the model in the format (height, width).\n",
    "\n",
    "    Returns:\n",
    "        numpy.ndarray: The preprocessed image."
   ]
  },
  {
   "cell_type": "code",
   "execution_count": null,
   "metadata": {},
   "outputs": [],
   "source": [
    "import cv2\n",
    "import numpy as np\n",
    "\n",
    "def preprocess_image(image, input_shape):\n",
    "    image = cv2.resize(image, input_shape)\n",
    "    image = image / 255.\n",
    "    image = np.expand_dims(image, axis=0)\n",
    "    return image"
   ]
  },
  {
   "attachments": {},
   "cell_type": "markdown",
   "metadata": {},
   "source": [
    "# Crop image on Region Of Interest"
   ]
  },
  {
   "attachments": {},
   "cell_type": "markdown",
   "metadata": {},
   "source": [
    "Reads an image from disk.\n",
    "\n",
    "    Args:\n",
    "        image_path (str): The path to the image file.\n",
    "\n",
    "    Returns:\n",
    "        numpy.ndarray: The image as a NumPy array.\n"
   ]
  },
  {
   "cell_type": "code",
   "execution_count": null,
   "metadata": {},
   "outputs": [],
   "source": [
    "def read_image(image_path):\n",
    "    return cv2.imread(image_path)"
   ]
  },
  {
   "attachments": {},
   "cell_type": "markdown",
   "metadata": {},
   "source": [
    "# Crops an image to the specified bounding box.\n",
    "\n",
    "    Args:\n",
    "        image (numpy.ndarray): The image to crop.\n",
    "        box (list): A list of bounding box coordinates in the format [x, y, width, height].\n",
    "\n",
    "    Returns:\n",
    "        numpy.ndarray: The cropped image.\n"
   ]
  },
  {
   "cell_type": "code",
   "execution_count": null,
   "metadata": {},
   "outputs": [],
   "source": [
    "def crop_image(image, box):\n",
    "    x, y, w, h = box\n",
    "    return image[y:y+h, x:x+w]"
   ]
  },
  {
   "attachments": {},
   "cell_type": "markdown",
   "metadata": {},
   "source": [
    "# Draws a bounding box on an image.\n",
    "\n",
    "    Args:\n",
    "        image (numpy.ndarray): The image to draw the bounding box on.\n",
    "        box (list): A list of bounding box coordinates in the format [x, y, width, height].\n",
    "        color (tuple, optional): The color of the bounding box. Defaults to (0, 255, 0).\n",
    "        thickness (int, optional): The thickness of the bounding box. Defaults to 2.\n",
    "\n",
    "    Returns:\n",
    "        numpy.ndarray: The image with the bounding box drawn on it.\n"
   ]
  },
  {
   "cell_type": "code",
   "execution_count": null,
   "metadata": {},
   "outputs": [],
   "source": [
    "def draw_bounding_box_on_image(image, box, color=(0, 255, 0), thickness=2):\n",
    "    x, y, w, h = box\n",
    "    cv2.rectangle(image, (x, y), (x + w, y + h), color, thickness)\n",
    "    return image"
   ]
  }
 ],
 "metadata": {
  "language_info": {
   "name": "python"
  },
  "orig_nbformat": 4
 },
 "nbformat": 4,
 "nbformat_minor": 2
}
